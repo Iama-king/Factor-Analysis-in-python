{
 "cells": [
  {
   "cell_type": "code",
   "execution_count": null,
   "id": "5b4306c2",
   "metadata": {},
   "outputs": [],
   "source": []
  },
  {
   "cell_type": "code",
   "execution_count": 8,
   "id": "fe02a512",
   "metadata": {},
   "outputs": [],
   "source": [
    "import pandas as pd\n",
    "from sklearn.decomposition import FactorAnalysis\n",
    "from factor_analyzer import FactorAnalyzer\n",
    "import matplotlib.pyplot as plt"
   ]
  },
  {
   "cell_type": "code",
   "execution_count": 9,
   "id": "a3529afa",
   "metadata": {},
   "outputs": [],
   "source": [
    "df= pd.read_csv(\"FIFA 2018 Statistics - FIFA 2018 Statistics.csv\")"
   ]
  },
  {
   "cell_type": "code",
   "execution_count": 10,
   "id": "ad4b2693",
   "metadata": {},
   "outputs": [],
   "source": [
    "df=df.fillna(0)"
   ]
  },
  {
   "cell_type": "code",
   "execution_count": 11,
   "id": "38faa11c",
   "metadata": {
    "scrolled": false
   },
   "outputs": [
    {
     "data": {
      "text/html": [
       "<div>\n",
       "<style scoped>\n",
       "    .dataframe tbody tr th:only-of-type {\n",
       "        vertical-align: middle;\n",
       "    }\n",
       "\n",
       "    .dataframe tbody tr th {\n",
       "        vertical-align: top;\n",
       "    }\n",
       "\n",
       "    .dataframe thead th {\n",
       "        text-align: right;\n",
       "    }\n",
       "</style>\n",
       "<table border=\"1\" class=\"dataframe\">\n",
       "  <thead>\n",
       "    <tr style=\"text-align: right;\">\n",
       "      <th></th>\n",
       "      <th>Ball Possession %</th>\n",
       "      <th>Attempts</th>\n",
       "      <th>On-Target</th>\n",
       "      <th>Off-Target</th>\n",
       "      <th>Blocked</th>\n",
       "      <th>Corners</th>\n",
       "      <th>Offsides</th>\n",
       "      <th>Free Kicks</th>\n",
       "      <th>Saves</th>\n",
       "      <th>Pass Accuracy %</th>\n",
       "      <th>Passes</th>\n",
       "      <th>Distance Covered (Kms)</th>\n",
       "      <th>Fouls Committed</th>\n",
       "      <th>Yellow Card</th>\n",
       "      <th>Yellow &amp; Red</th>\n",
       "    </tr>\n",
       "  </thead>\n",
       "  <tbody>\n",
       "    <tr>\n",
       "      <th>0</th>\n",
       "      <td>40</td>\n",
       "      <td>13</td>\n",
       "      <td>7</td>\n",
       "      <td>3</td>\n",
       "      <td>3</td>\n",
       "      <td>6</td>\n",
       "      <td>3</td>\n",
       "      <td>11</td>\n",
       "      <td>0</td>\n",
       "      <td>78</td>\n",
       "      <td>306</td>\n",
       "      <td>118</td>\n",
       "      <td>22</td>\n",
       "      <td>0</td>\n",
       "      <td>0</td>\n",
       "    </tr>\n",
       "    <tr>\n",
       "      <th>1</th>\n",
       "      <td>60</td>\n",
       "      <td>6</td>\n",
       "      <td>0</td>\n",
       "      <td>3</td>\n",
       "      <td>3</td>\n",
       "      <td>2</td>\n",
       "      <td>1</td>\n",
       "      <td>25</td>\n",
       "      <td>2</td>\n",
       "      <td>86</td>\n",
       "      <td>511</td>\n",
       "      <td>105</td>\n",
       "      <td>10</td>\n",
       "      <td>0</td>\n",
       "      <td>0</td>\n",
       "    </tr>\n",
       "    <tr>\n",
       "      <th>2</th>\n",
       "      <td>43</td>\n",
       "      <td>8</td>\n",
       "      <td>3</td>\n",
       "      <td>3</td>\n",
       "      <td>2</td>\n",
       "      <td>0</td>\n",
       "      <td>1</td>\n",
       "      <td>7</td>\n",
       "      <td>3</td>\n",
       "      <td>78</td>\n",
       "      <td>395</td>\n",
       "      <td>112</td>\n",
       "      <td>12</td>\n",
       "      <td>2</td>\n",
       "      <td>0</td>\n",
       "    </tr>\n",
       "    <tr>\n",
       "      <th>3</th>\n",
       "      <td>57</td>\n",
       "      <td>14</td>\n",
       "      <td>4</td>\n",
       "      <td>6</td>\n",
       "      <td>4</td>\n",
       "      <td>5</td>\n",
       "      <td>1</td>\n",
       "      <td>13</td>\n",
       "      <td>3</td>\n",
       "      <td>86</td>\n",
       "      <td>589</td>\n",
       "      <td>111</td>\n",
       "      <td>6</td>\n",
       "      <td>0</td>\n",
       "      <td>0</td>\n",
       "    </tr>\n",
       "    <tr>\n",
       "      <th>4</th>\n",
       "      <td>64</td>\n",
       "      <td>13</td>\n",
       "      <td>3</td>\n",
       "      <td>6</td>\n",
       "      <td>4</td>\n",
       "      <td>5</td>\n",
       "      <td>0</td>\n",
       "      <td>14</td>\n",
       "      <td>2</td>\n",
       "      <td>86</td>\n",
       "      <td>433</td>\n",
       "      <td>101</td>\n",
       "      <td>22</td>\n",
       "      <td>1</td>\n",
       "      <td>0</td>\n",
       "    </tr>\n",
       "    <tr>\n",
       "      <th>...</th>\n",
       "      <td>...</td>\n",
       "      <td>...</td>\n",
       "      <td>...</td>\n",
       "      <td>...</td>\n",
       "      <td>...</td>\n",
       "      <td>...</td>\n",
       "      <td>...</td>\n",
       "      <td>...</td>\n",
       "      <td>...</td>\n",
       "      <td>...</td>\n",
       "      <td>...</td>\n",
       "      <td>...</td>\n",
       "      <td>...</td>\n",
       "      <td>...</td>\n",
       "      <td>...</td>\n",
       "    </tr>\n",
       "    <tr>\n",
       "      <th>123</th>\n",
       "      <td>46</td>\n",
       "      <td>11</td>\n",
       "      <td>1</td>\n",
       "      <td>6</td>\n",
       "      <td>4</td>\n",
       "      <td>4</td>\n",
       "      <td>3</td>\n",
       "      <td>24</td>\n",
       "      <td>5</td>\n",
       "      <td>79</td>\n",
       "      <td>479</td>\n",
       "      <td>148</td>\n",
       "      <td>14</td>\n",
       "      <td>1</td>\n",
       "      <td>0</td>\n",
       "    </tr>\n",
       "    <tr>\n",
       "      <th>124</th>\n",
       "      <td>43</td>\n",
       "      <td>12</td>\n",
       "      <td>4</td>\n",
       "      <td>3</td>\n",
       "      <td>5</td>\n",
       "      <td>4</td>\n",
       "      <td>1</td>\n",
       "      <td>5</td>\n",
       "      <td>5</td>\n",
       "      <td>88</td>\n",
       "      <td>510</td>\n",
       "      <td>108</td>\n",
       "      <td>11</td>\n",
       "      <td>1</td>\n",
       "      <td>0</td>\n",
       "    </tr>\n",
       "    <tr>\n",
       "      <th>125</th>\n",
       "      <td>57</td>\n",
       "      <td>15</td>\n",
       "      <td>5</td>\n",
       "      <td>7</td>\n",
       "      <td>3</td>\n",
       "      <td>5</td>\n",
       "      <td>0</td>\n",
       "      <td>12</td>\n",
       "      <td>2</td>\n",
       "      <td>92</td>\n",
       "      <td>698</td>\n",
       "      <td>110</td>\n",
       "      <td>5</td>\n",
       "      <td>2</td>\n",
       "      <td>0</td>\n",
       "    </tr>\n",
       "    <tr>\n",
       "      <th>126</th>\n",
       "      <td>39</td>\n",
       "      <td>8</td>\n",
       "      <td>6</td>\n",
       "      <td>1</td>\n",
       "      <td>1</td>\n",
       "      <td>2</td>\n",
       "      <td>1</td>\n",
       "      <td>14</td>\n",
       "      <td>1</td>\n",
       "      <td>75</td>\n",
       "      <td>271</td>\n",
       "      <td>99</td>\n",
       "      <td>14</td>\n",
       "      <td>2</td>\n",
       "      <td>0</td>\n",
       "    </tr>\n",
       "    <tr>\n",
       "      <th>127</th>\n",
       "      <td>61</td>\n",
       "      <td>15</td>\n",
       "      <td>3</td>\n",
       "      <td>8</td>\n",
       "      <td>4</td>\n",
       "      <td>6</td>\n",
       "      <td>1</td>\n",
       "      <td>15</td>\n",
       "      <td>3</td>\n",
       "      <td>83</td>\n",
       "      <td>547</td>\n",
       "      <td>100</td>\n",
       "      <td>13</td>\n",
       "      <td>1</td>\n",
       "      <td>0</td>\n",
       "    </tr>\n",
       "  </tbody>\n",
       "</table>\n",
       "<p>128 rows × 15 columns</p>\n",
       "</div>"
      ],
      "text/plain": [
       "     Ball Possession %  Attempts  On-Target  Off-Target  Blocked  Corners  \\\n",
       "0                   40        13          7           3        3        6   \n",
       "1                   60         6          0           3        3        2   \n",
       "2                   43         8          3           3        2        0   \n",
       "3                   57        14          4           6        4        5   \n",
       "4                   64        13          3           6        4        5   \n",
       "..                 ...       ...        ...         ...      ...      ...   \n",
       "123                 46        11          1           6        4        4   \n",
       "124                 43        12          4           3        5        4   \n",
       "125                 57        15          5           7        3        5   \n",
       "126                 39         8          6           1        1        2   \n",
       "127                 61        15          3           8        4        6   \n",
       "\n",
       "     Offsides  Free Kicks  Saves  Pass Accuracy %  Passes  \\\n",
       "0           3          11      0               78     306   \n",
       "1           1          25      2               86     511   \n",
       "2           1           7      3               78     395   \n",
       "3           1          13      3               86     589   \n",
       "4           0          14      2               86     433   \n",
       "..        ...         ...    ...              ...     ...   \n",
       "123         3          24      5               79     479   \n",
       "124         1           5      5               88     510   \n",
       "125         0          12      2               92     698   \n",
       "126         1          14      1               75     271   \n",
       "127         1          15      3               83     547   \n",
       "\n",
       "     Distance Covered (Kms)  Fouls Committed  Yellow Card  Yellow & Red  \n",
       "0                       118               22            0             0  \n",
       "1                       105               10            0             0  \n",
       "2                       112               12            2             0  \n",
       "3                       111                6            0             0  \n",
       "4                       101               22            1             0  \n",
       "..                      ...              ...          ...           ...  \n",
       "123                     148               14            1             0  \n",
       "124                     108               11            1             0  \n",
       "125                     110                5            2             0  \n",
       "126                      99               14            2             0  \n",
       "127                     100               13            1             0  \n",
       "\n",
       "[128 rows x 15 columns]"
      ]
     },
     "execution_count": 11,
     "metadata": {},
     "output_type": "execute_result"
    }
   ],
   "source": [
    "df_new=df.iloc[:,4:19]\n",
    "df_new"
   ]
  },
  {
   "cell_type": "code",
   "execution_count": null,
   "id": "8c057369",
   "metadata": {},
   "outputs": [],
   "source": []
  },
  {
   "cell_type": "code",
   "execution_count": 12,
   "id": "57366da4",
   "metadata": {},
   "outputs": [
    {
     "data": {
      "text/plain": [
       "(1242.0554521789472, 6.1329394266561e-194)"
      ]
     },
     "execution_count": 12,
     "metadata": {},
     "output_type": "execute_result"
    }
   ],
   "source": [
    "from factor_analyzer.factor_analyzer import calculate_bartlett_sphericity\n",
    "chi_square_value,p_value=calculate_bartlett_sphericity(df_new)\n",
    "chi_square_value, p_value"
   ]
  },
  {
   "cell_type": "code",
   "execution_count": 13,
   "id": "698da7b1",
   "metadata": {},
   "outputs": [
    {
     "data": {
      "text/plain": [
       "0.5539603554297706"
      ]
     },
     "execution_count": 13,
     "metadata": {},
     "output_type": "execute_result"
    }
   ],
   "source": [
    "from factor_analyzer.factor_analyzer import calculate_kmo\n",
    "kmo_all,kmo_model=calculate_kmo(df_new)\n",
    "kmo_model"
   ]
  },
  {
   "cell_type": "code",
   "execution_count": 14,
   "id": "4859e223",
   "metadata": {},
   "outputs": [
    {
     "data": {
      "text/plain": [
       "5"
      ]
     },
     "execution_count": 14,
     "metadata": {},
     "output_type": "execute_result"
    }
   ],
   "source": [
    "fa = FactorAnalyzer()\n",
    "fa.fit(df_new)\n",
    "ev, v = fa.get_eigenvalues()\n",
    "ev\n",
    "count=0\n",
    "for i in range(0,len(ev)):\n",
    "    if(ev[i]>1):\n",
    "        count+=1\n",
    "count"
   ]
  },
  {
   "cell_type": "code",
   "execution_count": 17,
   "id": "12d6d728",
   "metadata": {},
   "outputs": [
    {
     "data": {
      "text/plain": [
       "array([4.91716407, 1.6468651 , 1.31783903, 1.28786505, 1.04318126,\n",
       "       0.98685718, 0.82164804, 0.67375811, 0.64099217, 0.55097254,\n",
       "       0.44612018, 0.35897919, 0.23335382, 0.06881835, 0.00558592])"
      ]
     },
     "execution_count": 17,
     "metadata": {},
     "output_type": "execute_result"
    }
   ],
   "source": [
    "ev\n"
   ]
  },
  {
   "cell_type": "code",
   "execution_count": 83,
   "id": "10978850",
   "metadata": {},
   "outputs": [
    {
     "data": {
      "image/png": "[encoded data removed]",
      "text/plain": [
       "<Figure size 640x480 with 1 Axes>"
      ]
     },
     "metadata": {},
     "output_type": "display_data"
    }
   ],
   "source": [
    "plt.scatter(range(1,df_new.shape[1]+1),ev)\n",
    "plt.plot(range(1,df_new.shape[1]+1),ev)\n",
    "plt.title('Scree Plot')\n",
    "plt.xlabel('Factors')\n",
    "plt.ylabel('Eigenvalue')\n",
    "plt.grid()\n",
    "plt.show()"
   ]
  },
  {
   "cell_type": "code",
   "execution_count": 84,
   "id": "1bec68a7",
   "metadata": {},
   "outputs": [
    {
     "name": "stdout",
     "output_type": "stream",
     "text": [
      "                               0         1         2         3         4\n",
      "Ball Possession %       0.337633  0.868701 -0.179499 -0.071129  0.106721\n",
      "Attempts                0.994312  0.234177 -0.129799  0.092461 -0.078996\n",
      "On-Target               0.618740  0.134676 -0.083508 -0.073968 -0.061816\n",
      "Off-Target              0.539515  0.193810 -0.128558  0.247246 -0.230906\n",
      "Blocked                 0.626085  0.321058 -0.096638  0.037888  0.130323\n",
      "Corners                 0.649120  0.322093 -0.084447  0.062287  0.039136\n",
      "Offsides               -0.012194  0.046593 -0.033084 -0.017946  0.302670\n",
      "Free Kicks              0.097977  0.254636  0.114750  0.027401 -0.000023\n",
      "Saves                  -0.245411 -0.266061 -0.046783  0.219567  0.195987\n",
      "Pass Accuracy %         0.238100  0.655345 -0.212670 -0.258983  0.157588\n",
      "Passes                  0.340098  0.851294 -0.276654  0.196252  0.049630\n",
      "Distance Covered (Kms)  0.122887 -0.013437  0.068409  0.743486 -0.024120\n",
      "Fouls Committed        -0.113473 -0.095350  0.974702  0.145677  0.073074\n",
      "Yellow Card            -0.138511 -0.055840  0.424875 -0.038207 -0.136007\n",
      "Yellow & Red           -0.039317  0.027082 -0.019000  0.016833  0.662736\n"
     ]
    }
   ],
   "source": [
    "fa = FactorAnalyzer(n_factors=count,rotation='varimax')\n",
    "fa.fit(df_new)\n",
    "factor_df=pd.DataFrame(fa.loadings_,index=df_new.columns)\n",
    "print(factor_df)"
   ]
  },
  {
   "cell_type": "code",
   "execution_count": 85,
   "id": "a972ca2b",
   "metadata": {},
   "outputs": [
    {
     "data": {
      "text/plain": [
       "(array([2.88095023, 2.3771034 , 1.36285915, 0.81613103, 0.71423938]),\n",
       " array([0.19206335, 0.15847356, 0.09085728, 0.05440874, 0.04761596]),\n",
       " array([0.19206335, 0.35053691, 0.44139419, 0.49580292, 0.54341888]))"
      ]
     },
     "execution_count": 85,
     "metadata": {},
     "output_type": "execute_result"
    }
   ],
   "source": [
    "fa.get_factor_variance()"
   ]
  },
  {
   "cell_type": "code",
   "execution_count": null,
   "id": "e17ba0cf",
   "metadata": {},
   "outputs": [],
   "source": []
  }
 ],
 "metadata": {
  "kernelspec": {
   "display_name": "Python 3 (ipykernel)",
   "language": "python",
   "name": "python3"
  },
  "language_info": {
   "codemirror_mode": {
    "name": "ipython",
    "version": 3
   },
   "file_extension": ".py",
   "mimetype": "text/x-python",
   "name": "python",
   "nbconvert_exporter": "python",
   "pygments_lexer": "ipython3",
   "version": "3.10.6"
  }
 },
 "nbformat": 4,
 "nbformat_minor": 5
}
